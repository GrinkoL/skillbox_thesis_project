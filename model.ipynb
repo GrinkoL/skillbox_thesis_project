{
 "cells": [
  {
   "cell_type": "markdown",
   "metadata": {
    "id": "7zgBEijiJs_Q"
   },
   "source": [
    "# Модель\n",
    "В данном ноутбуке реализована функция сборки модели для предсказания эмоций. При конструировании модели использовалась технология finetuning, базовой моделью в которой являлась предобученная модель VGG16 из проекта keras-vggface."
   ]
  },
  {
   "cell_type": "code",
   "execution_count": 4,
   "metadata": {
    "id": "JEVGJ2jW4iBw"
   },
   "outputs": [],
   "source": [
    "try:\n",
    "    from keras_vggface.vggface import VGGFace\n",
    "except ModuleNotFoundError:\n",
    "    ! pip install git+https://github.com/rcmalli/keras-vggface.git > /dev/null\n",
    "    ! pip install keras_applications > /dev/null\n",
    "    from keras_vggface.vggface import VGGFace\n",
    "\n",
    "import tensorflow as tf\n",
    "from tensorflow.keras import models\n",
    "from tensorflow.keras.layers import Dense"
   ]
  },
  {
   "cell_type": "code",
   "execution_count": 5,
   "metadata": {
    "id": "4V9xl7xT6HFO"
   },
   "outputs": [],
   "source": [
    "def assemble_model():\n",
    "    vgg = VGGFace()\n",
    "    input_for_model = vgg.input\n",
    "    output_for_model = vgg.get_layer('fc8').output\n",
    "\n",
    "    base_model = tf.keras.Model(inputs=input_for_model, outputs=output_for_model)\n",
    "    for layer in base_model.layers[:-5]:\n",
    "        layer.trainable=False\n",
    "    model = models.Sequential([base_model, Dense(9, activation='softmax')])\n",
    "    optimazer = tf.keras.optimizers.Adam(learning_rate=1e-4)\n",
    "    model.compile(optimizer=optimazer, loss='categorical_crossentropy', metrics=['categorical_accuracy'])\n",
    "    return model"
   ]
  }
 ],
 "metadata": {
  "colab": {
   "authorship_tag": "ABX9TyMSdXXpfa9dw418NfSXl1Ez",
   "collapsed_sections": [],
   "name": "model.ipynb",
   "provenance": []
  },
  "kernelspec": {
   "display_name": "Python 3",
   "language": "python",
   "name": "python3"
  },
  "language_info": {
   "codemirror_mode": {
    "name": "ipython",
    "version": 3
   },
   "file_extension": ".py",
   "mimetype": "text/x-python",
   "name": "python",
   "nbconvert_exporter": "python",
   "pygments_lexer": "ipython3",
   "version": "3.7.6"
  }
 },
 "nbformat": 4,
 "nbformat_minor": 1
}
