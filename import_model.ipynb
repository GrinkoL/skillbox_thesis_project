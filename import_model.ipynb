{
 "cells": [
  {
   "cell_type": "markdown",
   "metadata": {
    "id": "zgbdhrXiLA2l"
   },
   "source": [
    "# Импорт модели\n",
    "\n",
    "В данном ноутбуке реализован класс Model, который позволяет загрузить и импортировать готовую, предобученную модель для предсказания эмоций, а также запускать процесс предсказания на отдельных изображениях (для этого нужно передать методу predict путь до интересующего изображения)."
   ]
  },
  {
   "cell_type": "code",
   "execution_count": 6,
   "metadata": {
    "id": "ipChnPyTThEP"
   },
   "outputs": [
    {
     "name": "stdout",
     "output_type": "stream",
     "text": [
      "C:\\Users\\user\n"
     ]
    }
   ],
   "source": [
    "from tensorflow.keras.preprocessing import image\n",
    "import gdown\n",
    "import tensorflow as tf\n",
    "from tensorflow.keras import models\n",
    "from tensorflow.keras import backend as K\n",
    "import numpy as np\n",
    "import os\n",
    "import zipfile\n",
    "# if os.name == 'nt':\n",
    "#     %cd"
   ]
  },
  {
   "cell_type": "code",
   "execution_count": 1,
   "metadata": {
    "id": "NZMfio06fzik"
   },
   "outputs": [],
   "source": [
    "class Model():\n",
    "    def __init__(self):\n",
    "        self.url = 'https://drive.google.com/uc?id=1-HDQxtpZKGuKWQhsiDANyc41SL_CwHdU'\n",
    "        self.predictor = None\n",
    "        self.clas_indices = {0:'anger', 1:'contempt', 2:'disgust', 3:'fear',\n",
    "                             4:'happy', 5:'neutral', 6:'sad', 7:'surprise',\n",
    "                             8:'uncertain'}\n",
    "        self.__dowload_and_unzip__()\n",
    "        self.__import_model__()\n",
    "\n",
    "    def __dowload_and_unzip__(self):\n",
    "        if not os.path.exists('model'):\n",
    "            if not os.path.exists('model.zip'):\n",
    "                gdown.download(self.url, 'model.zip', False)\n",
    "            if os.name == 'nt':\n",
    "                with zipfile.ZipFile('model.zip') as file:\n",
    "                    file.extractall('.')\n",
    "            else:\n",
    "                ! unzip model.zip -d .\n",
    "                ! rm model.zip\n",
    "\n",
    "    def __import_model__(self):\n",
    "        self.predictor = models.load_model('model')\n",
    "\n",
    "    def __preprocess_input__(self, img):\n",
    "        if isinstance(img, str):\n",
    "            img = image.load_img(img, target_size=(224,224))\n",
    "            x_temp = image.img_to_array(img)\n",
    "        elif isinstance(img, np.ndarray):\n",
    "            x_temp = np.copy(img)\n",
    "            x_temp = tf.image.resize(x_temp, (224,224)).numpy()\n",
    "        else:\n",
    "            raise Exception('Не верный тип параметра.\\\n",
    "            Вы можете передать либо путь до .jpg изображения либо его numpy представление')\n",
    "            \n",
    "        data_format = K.image_data_format()\n",
    "        assert data_format in {'channels_last', 'channels_first'}\n",
    "\n",
    "        if data_format == 'channels_first':\n",
    "            x_temp = x_temp[:, ::-1, ...]\n",
    "            x_temp[:, 0, :, :] -= 93.5940\n",
    "            x_temp[:, 1, :, :] -= 104.7624\n",
    "            x_temp[:, 2, :, :] -= 129.1863\n",
    "        else:\n",
    "            x_temp = x_temp[..., ::-1]\n",
    "            x_temp[..., 0] -= 93.5940\n",
    "            x_temp[..., 1] -= 104.7624\n",
    "            x_temp[..., 2] -= 129.1863\n",
    "\n",
    "        return x_temp[None,...]\n",
    "\n",
    "    \n",
    "    def predict(self, img):\n",
    "        img = self.__preprocess_input__(img)\n",
    "        id = np.argmax(self.predictor(img))\n",
    "        return self.clas_indices[id]"
   ]
  }
 ],
 "metadata": {
  "accelerator": "GPU",
  "colab": {
   "collapsed_sections": [],
   "name": "import_model.ipynb",
   "provenance": []
  },
  "kernelspec": {
   "display_name": "Python 3",
   "language": "python",
   "name": "python3"
  },
  "language_info": {
   "codemirror_mode": {
    "name": "ipython",
    "version": 3
   },
   "file_extension": ".py",
   "mimetype": "text/x-python",
   "name": "python",
   "nbconvert_exporter": "python",
   "pygments_lexer": "ipython3",
   "version": "3.7.6"
  }
 },
 "nbformat": 4,
 "nbformat_minor": 1
}
