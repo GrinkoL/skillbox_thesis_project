{
  "nbformat": 4,
  "nbformat_minor": 0,
  "metadata": {
    "colab": {
      "name": "import_model.ipynb",
      "provenance": [],
      "collapsed_sections": []
    },
    "kernelspec": {
      "name": "python3",
      "display_name": "Python 3"
    },
    "accelerator": "GPU"
  },
  "cells": [
    {
      "cell_type": "markdown",
      "metadata": {
        "id": "zgbdhrXiLA2l"
      },
      "source": [
        "#Импорт модели\r\n",
        "В данном ноутбуке реализован класс Model, который позволяет загрузить и импортировать готовую, предобученную модель для предсказания эмоций, а также запускать процесс предсказания на отдельных изображениях (для этого нужно передать методу predict путь до интересующего изображения)."
      ]
    },
    {
      "cell_type": "code",
      "metadata": {
        "id": "ipChnPyTThEP"
      },
      "source": [
        "from tensorflow.keras.preprocessing import image\r\n",
        "import gdown\r\n",
        "from tensorflow.keras import models\r\n",
        "from tensorflow.keras import backend as K\r\n",
        "import numpy as np\r\n",
        "import sys\r\n",
        "import os"
      ],
      "execution_count": null,
      "outputs": []
    },
    {
      "cell_type": "code",
      "metadata": {
        "id": "NZMfio06fzik"
      },
      "source": [
        "class Model():\r\n",
        "    def __init__(self):\r\n",
        "        self.url = 'https://drive.google.com/uc?id=1-HDQxtpZKGuKWQhsiDANyc41SL_CwHdU'\r\n",
        "        self.predictor = None\r\n",
        "        self.clas_indices = {0:'anger', 1:'contempt', 2:'disgust', 3:'fear',\r\n",
        "                             4:'happy', 5:'neutral', 6:'sad', 7:'surprise',\r\n",
        "                             8:'uncertain'}\r\n",
        "        self.__dowload_and_unzip__()\r\n",
        "        self.__import_model__()\r\n",
        "\r\n",
        "    def __dowload_and_unzip__(self):\r\n",
        "        if not os.path.exists('model'):\r\n",
        "                gdown.download(self.url, 'model.zip', False)\r\n",
        "                ! unzip model.zip -d .\r\n",
        "                ! rm model.zip\r\n",
        "\r\n",
        "    def __import_model__(self):\r\n",
        "        self.predictor = models.load_model('model')\r\n",
        "\r\n",
        "    def __preprocess_input__(self, path_img):\r\n",
        "        img = image.load_img(path_img, target_size=(224,224))\r\n",
        "        x_temp = image.img_to_array(img)\r\n",
        "        data_format = K.image_data_format()\r\n",
        "        assert data_format in {'channels_last', 'channels_first'}\r\n",
        "\r\n",
        "        if data_format == 'channels_first':\r\n",
        "            x_temp = x_temp[:, ::-1, ...]\r\n",
        "            x_temp[:, 0, :, :] -= 93.5940\r\n",
        "            x_temp[:, 1, :, :] -= 104.7624\r\n",
        "            x_temp[:, 2, :, :] -= 129.1863\r\n",
        "        else:\r\n",
        "            x_temp = x_temp[..., ::-1]\r\n",
        "            x_temp[..., 0] -= 93.5940\r\n",
        "            x_temp[..., 1] -= 104.7624\r\n",
        "            x_temp[..., 2] -= 129.1863\r\n",
        "\r\n",
        "        return x_temp[None,...]\r\n",
        "\r\n",
        "    \r\n",
        "    def predict(self, path_img):\r\n",
        "        img = self.__preprocess_input__(path_img)\r\n",
        "        id = np.argmax(self.predictor(img))\r\n",
        "        return self.clas_indices[id]"
      ],
      "execution_count": null,
      "outputs": []
    }
  ]
}