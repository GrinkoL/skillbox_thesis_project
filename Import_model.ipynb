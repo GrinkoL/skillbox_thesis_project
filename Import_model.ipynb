{
  "nbformat": 4,
  "nbformat_minor": 0,
  "metadata": {
    "colab": {
      "name": "Import_model.ipynb",
      "provenance": [],
      "collapsed_sections": []
    },
    "kernelspec": {
      "name": "python3",
      "display_name": "Python 3"
    },
    "accelerator": "GPU"
  },
  "cells": [
    {
      "cell_type": "code",
      "metadata": {
        "id": "ipChnPyTThEP"
      },
      "source": [
        "from tensorflow.keras.preprocessing import image\r\n",
        "import gdown\r\n",
        "from tensorflow.keras import models\r\n",
        "from tensorflow.keras import backend as K\r\n",
        "import numpy as np\r\n",
        "import sys\r\n",
        "import os"
      ],
      "execution_count": 1,
      "outputs": []
    },
    {
      "cell_type": "code",
      "metadata": {
        "id": "NZMfio06fzik"
      },
      "source": [
        "class Model():\r\n",
        "    def __init__(self):\r\n",
        "        if 'gdown' not in sys.modules:\r\n",
        "            # print('Необходимо установить gdown')\r\n",
        "            ! pip install gdown > /dev/null\r\n",
        "        self.url = 'https://drive.google.com/uc?id=1-HDQxtpZKGuKWQhsiDANyc41SL_CwHdU'\r\n",
        "        self.predictor = None\r\n",
        "        self.clas_indices = {0:'anger', 1:'contempt', 2:'disgust', 3:'fear',\r\n",
        "                             4:'happy', 5:'neutral', 6:'sad', 7:'surprise',\r\n",
        "                             8:'uncertain'}\r\n",
        "        self.__dowload_and_unzip__()\r\n",
        "        self.__import_model__()\r\n",
        "\r\n",
        "    def __dowload_and_unzip__(self):\r\n",
        "        if not os.path.exists('model'):\r\n",
        "                gdown.download(self.url, 'model.zip', False)\r\n",
        "                ! unzip model.zip -d .\r\n",
        "                ! rm model.zip\r\n",
        "\r\n",
        "    def __import_model__(self):\r\n",
        "        self.predictor = models.load_model('model')\r\n",
        "\r\n",
        "    def preprocess_input(self, path_img):\r\n",
        "        img = image.load_img(path_img, target_size=(224,224))\r\n",
        "        x_temp = image.img_to_array(img)\r\n",
        "        data_format = K.image_data_format()\r\n",
        "        assert data_format in {'channels_last', 'channels_first'}\r\n",
        "\r\n",
        "        if data_format == 'channels_first':\r\n",
        "            x_temp = x_temp[:, ::-1, ...]\r\n",
        "            x_temp[:, 0, :, :] -= 93.5940\r\n",
        "            x_temp[:, 1, :, :] -= 104.7624\r\n",
        "            x_temp[:, 2, :, :] -= 129.1863\r\n",
        "        else:\r\n",
        "            x_temp = x_temp[..., ::-1]\r\n",
        "            x_temp[..., 0] -= 93.5940\r\n",
        "            x_temp[..., 1] -= 104.7624\r\n",
        "            x_temp[..., 2] -= 129.1863\r\n",
        "\r\n",
        "        return x_temp[None,...]\r\n",
        "\r\n",
        "    \r\n",
        "    def predict(self, img):\r\n",
        "        id = np.argmax(self.predictor(img))\r\n",
        "        return self.clas_indices[id]"
      ],
      "execution_count": 2,
      "outputs": []
    },
    {
      "cell_type": "code",
      "metadata": {
        "id": "hH7raanHfzPd"
      },
      "source": [
        ""
      ],
      "execution_count": null,
      "outputs": []
    },
    {
      "cell_type": "code",
      "metadata": {
        "id": "z132Jr10d79w"
      },
      "source": [
        "# model = Model()"
      ],
      "execution_count": 12,
      "outputs": []
    },
    {
      "cell_type": "code",
      "metadata": {
        "colab": {
          "base_uri": "https://localhost:8080/"
        },
        "id": "vaQ3mNSUila6",
        "outputId": "ed6fd32c-aa22-4d77-9e4d-a7eea637bbd6"
      },
      "source": [
        "# %%time\r\n",
        "# img = model.preprocess_input('test/10.jpg')\r\n",
        "# model.predict(img)"
      ],
      "execution_count": 14,
      "outputs": [
        {
          "output_type": "stream",
          "text": [
            "CPU times: user 18 ms, sys: 4.56 ms, total: 22.5 ms\n",
            "Wall time: 27.5 ms\n"
          ],
          "name": "stdout"
        }
      ]
    },
    {
      "cell_type": "code",
      "metadata": {
        "id": "zhngtDb2ga95"
      },
      "source": [
        "# from google.colab import drive\r\n",
        "# drive.mount('/GoogleDrive')"
      ],
      "execution_count": null,
      "outputs": []
    },
    {
      "cell_type": "code",
      "metadata": {
        "id": "DkYn3fyyhqQ5"
      },
      "source": [
        "# ! unzip /GoogleDrive/MyDrive/ColabNotebooks/ThesisProject/data/test.zip -d . > /dev/null"
      ],
      "execution_count": 6,
      "outputs": []
    },
    {
      "cell_type": "code",
      "metadata": {
        "id": "AzVl6yqjrHHY"
      },
      "source": [
        ""
      ],
      "execution_count": null,
      "outputs": []
    }
  ]
}