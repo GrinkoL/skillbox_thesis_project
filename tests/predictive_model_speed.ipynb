{
  "nbformat": 4,
  "nbformat_minor": 0,
  "metadata": {
    "colab": {
      "name": "predictive_model_speed.ipynb",
      "provenance": [],
      "collapsed_sections": [],
      "toc_visible": true
    },
    "kernelspec": {
      "name": "python3",
      "display_name": "Python 3"
    },
    "accelerator": "GPU"
  },
  "cells": [
    {
      "cell_type": "markdown",
      "metadata": {
        "id": "3VGh3TfOak-D"
      },
      "source": [
        "#Тест скорости инференса\r\n",
        "В данном ноутбуке выполняется замер скорости инференса модели с рандомными весами.\r\n",
        "Для этого скачивается проект, собирается модель, загружается тестовый набор изображений, выполняется предобработка одного из выбранных избражений и наконец производиться замер времени инференса."
      ]
    },
    {
      "cell_type": "code",
      "metadata": {
        "id": "8gJ3qqTHy72T"
      },
      "source": [
        "import sys\r\n",
        "import os\r\n",
        "import gdown\r\n",
        "import numpy as np"
      ],
      "execution_count": 1,
      "outputs": []
    },
    {
      "cell_type": "code",
      "metadata": {
        "colab": {
          "base_uri": "https://localhost:8080/"
        },
        "id": "A02bit7H0h__",
        "outputId": "e220f6c4-01b2-46cb-e459-90686d0b7836"
      },
      "source": [
        "# Устанавливаем модуль import_ipynb и импортируем его.\r\n",
        "# Он необходим для импорта файлов .ipynb.\r\n",
        "try:\r\n",
        "    import import_ipynb\r\n",
        "except:\r\n",
        "    ! pip install import-ipynb\r\n",
        "    import import_ipynb\r\n",
        "\r\n",
        "# Если проект отсутствует, клонируем его с Github. Далее из проекта нам понадобиться файл \r\n",
        "# модели - model.ipynb, расположенный в корне проекта.\r\n",
        "# Импортируем из него функцию сборки модели\r\n",
        "try:\r\n",
        "    from skillbox_thesis_project.model import assemble_model\r\n",
        "except ModuleNotFoundError:\r\n",
        "    ! git clone https://github.com/GrinkoL/skillbox_thesis_project.git\r\n",
        "    from skillbox_thesis_project.model import assemble_model\r\n",
        "    \r\n",
        "# Cобираем модель\r\n",
        "model = assemble_model()"
      ],
      "execution_count": 2,
      "outputs": [
        {
          "output_type": "stream",
          "text": [
            "Collecting import-ipynb\n",
            "  Downloading https://files.pythonhosted.org/packages/63/35/495e0021bfdcc924c7cdec4e9fbb87c88dd03b9b9b22419444dc370c8a45/import-ipynb-0.1.3.tar.gz\n",
            "Building wheels for collected packages: import-ipynb\n",
            "  Building wheel for import-ipynb (setup.py) ... \u001b[?25l\u001b[?25hdone\n",
            "  Created wheel for import-ipynb: filename=import_ipynb-0.1.3-cp37-none-any.whl size=2976 sha256=cd0443b46b294a0975d7b83b6d2bacb6f5cfd71e6a4c8728f0875e560d0f144c\n",
            "  Stored in directory: /root/.cache/pip/wheels/b4/7b/e9/a3a6e496115dffdb4e3085d0ae39ffe8a814eacc44bbf494b5\n",
            "Successfully built import-ipynb\n",
            "Installing collected packages: import-ipynb\n",
            "Successfully installed import-ipynb-0.1.3\n",
            "Cloning into 'skillbox_thesis_project'...\n",
            "remote: Enumerating objects: 43, done.\u001b[K\n",
            "remote: Counting objects: 100% (43/43), done.\u001b[K\n",
            "remote: Compressing objects: 100% (43/43), done.\u001b[K\n",
            "remote: Total 202 (delta 18), reused 0 (delta 0), pack-reused 159\u001b[K\n",
            "Receiving objects: 100% (202/202), 768.45 KiB | 28.46 MiB/s, done.\n",
            "Resolving deltas: 100% (70/70), done.\n",
            "importing Jupyter notebook from /content/skillbox_thesis_project/model.ipynb\n",
            "  Running command git clone -q https://github.com/rcmalli/keras-vggface.git /tmp/pip-req-build-u89x587_\n",
            "Downloading data from https://github.com/rcmalli/keras-vggface/releases/download/v2.0/rcmalli_vggface_tf_vgg16.h5\n",
            "580075520/580070376 [==============================] - 6s 0us/step\n"
          ],
          "name": "stdout"
        }
      ]
    },
    {
      "cell_type": "code",
      "metadata": {
        "colab": {
          "base_uri": "https://localhost:8080/"
        },
        "id": "JT-blfAxuduU",
        "outputId": "604b4839-18c7-4ab7-e1da-0ddf4484a3e6"
      },
      "source": [
        "# Загружаем и распаковываем тестовый датасет, а также удаляем загруженный архив.\r\n",
        "# Из него мы возьмём одно изображения, на котором проверим скорость инференса.\r\n",
        "if not os.path.exists('test'):\r\n",
        "    if not os.path.exists('test.zip'):\r\n",
        "        gdown.download('https://drive.google.com/uc?id=1bGHeWeWYXj5biL9s-qTc9gyv91WNAbWE', 'test.zip', False)\r\n",
        "    ! unzip -j test.zip -d test > /dev/null\r\n",
        "    ! rm test.zip"
      ],
      "execution_count": 3,
      "outputs": [
        {
          "output_type": "stream",
          "text": [
            "Downloading...\n",
            "From: https://drive.google.com/uc?id=1bGHeWeWYXj5biL9s-qTc9gyv91WNAbWE\n",
            "To: /content/test.zip\n",
            "222MB [00:01, 136MB/s]\n"
          ],
          "name": "stderr"
        }
      ]
    },
    {
      "cell_type": "code",
      "metadata": {
        "id": "TdNmPfQY2aWf"
      },
      "source": [
        "from tensorflow.keras import backend as K\r\n",
        "\r\n",
        "#  Определяем функцию предобработки изображения\r\n",
        "def preprocess_input(path_img):\r\n",
        "        img = image.load_img(path_img, target_size=(224,224))\r\n",
        "        x_temp = image.img_to_array(img)\r\n",
        "        data_format = K.image_data_format()\r\n",
        "        assert data_format in {'channels_last', 'channels_first'}\r\n",
        "\r\n",
        "        if data_format == 'channels_first':\r\n",
        "            x_temp = x_temp[:, ::-1, ...]\r\n",
        "            x_temp[:, 0, :, :] -= 93.5940\r\n",
        "            x_temp[:, 1, :, :] -= 104.7624\r\n",
        "            x_temp[:, 2, :, :] -= 129.1863\r\n",
        "        else:\r\n",
        "            x_temp = x_temp[..., ::-1]\r\n",
        "            x_temp[..., 0] -= 93.5940\r\n",
        "            x_temp[..., 1] -= 104.7624\r\n",
        "            x_temp[..., 2] -= 129.1863\r\n",
        "\r\n",
        "        return x_temp[None,...]"
      ],
      "execution_count": 4,
      "outputs": []
    },
    {
      "cell_type": "code",
      "metadata": {
        "id": "yXvUrcnb26e-"
      },
      "source": [
        "from tensorflow.keras.preprocessing import image\r\n",
        "\r\n",
        "img_path = 'test/0.jpg'\r\n",
        "img = preprocess_input(img_path)"
      ],
      "execution_count": 5,
      "outputs": []
    },
    {
      "cell_type": "code",
      "metadata": {
        "colab": {
          "base_uri": "https://localhost:8080/"
        },
        "id": "Ef4BEXo13svj",
        "outputId": "61a622ea-f805-4e5e-c7c8-8c6e9d6fa4a4"
      },
      "source": [
        "# ВНИМАНИЕ! Первый запуск инференса с аппаратным ускорителем происходит долго,\r\n",
        "# порядка нескольких секунд, поэтому замерять нужно со второго запуска.\r\n",
        "\r\n",
        "%%time\r\n",
        "np.argmax(model(img))"
      ],
      "execution_count": 7,
      "outputs": [
        {
          "output_type": "stream",
          "text": [
            "CPU times: user 16.5 ms, sys: 3.97 ms, total: 20.4 ms\n",
            "Wall time: 21.7 ms\n"
          ],
          "name": "stdout"
        },
        {
          "output_type": "execute_result",
          "data": {
            "text/plain": [
              "5"
            ]
          },
          "metadata": {
            "tags": []
          },
          "execution_count": 7
        }
      ]
    },
    {
      "cell_type": "markdown",
      "metadata": {
        "id": "DhxNwI7b54WF"
      },
      "source": [
        "#Вывод:\r\n",
        "Созданная нами модель имеет скорость инференса, равную ~ 22ms на одном изображении. Согласно техзаданию к дипломному проекту, скорость инференса не должна превышать 330 ms, у нас же она на порядок меньше."
      ]
    }
  ]
}