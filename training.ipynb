{
  "nbformat": 4,
  "nbformat_minor": 0,
  "metadata": {
    "colab": {
      "name": "training.ipynb",
      "provenance": [],
      "collapsed_sections": []
    },
    "kernelspec": {
      "name": "python3",
      "display_name": "Python 3"
    },
    "accelerator": "GPU"
  },
  "cells": [
    {
      "cell_type": "markdown",
      "metadata": {
        "id": "nIkA0DsJHPWK"
      },
      "source": [
        "#Обучение модели\r\n",
        "\r\n"
      ]
    },
    {
      "cell_type": "code",
      "metadata": {
        "id": "NYt-eMvC4NcT"
      },
      "source": [
        "import gdown\r\n",
        "import sys\r\n",
        "import os\r\n",
        "import numpy as np\r\n",
        "from tensorflow.keras import backend as K\r\n",
        "\r\n",
        "# Загружаем предварительно аугментированный тренеровочный набор изображений.\r\n",
        "# Распаковываем и удаляем скаченный архив.\r\n",
        "if not os.path.exists('train'):\r\n",
        "    if not os.path.exists('train.zip'):\r\n",
        "        aug_train_zip_url = 'https://drive.google.com/uc?id=1ZHqymPmcdUoR0XF3V1wz-kTCKKLz0_SX'\r\n",
        "        gdown.download(aug_train_zip_url, 'train.zip', False)\r\n",
        "    ! unzip train.zip -d .\r\n",
        "    ! rm train.zip"
      ],
      "execution_count": null,
      "outputs": []
    },
    {
      "cell_type": "code",
      "metadata": {
        "id": "lXV47_qh8MHm",
        "colab": {
          "base_uri": "https://localhost:8080/"
        },
        "outputId": "5ff8b25c-625a-4375-ca1a-4e91b598a845"
      },
      "source": [
        "# Устанавливаем и импортируем модуль import_ipynb. Он необходим для \r\n",
        "# импорта файлов .ipynb\r\n",
        "dist_packages = ! ls /usr/local/lib/python3.7/dist-packages\r\n",
        "if 'import_ipynb.py' not in sys.modules and 'import_ipynb.py' not in dist_packages:\r\n",
        "    ! pip install import-ipynb\r\n",
        "    \r\n",
        "import import_ipynb"
      ],
      "execution_count": null,
      "outputs": [
        {
          "output_type": "stream",
          "text": [
            "Collecting import-ipynb\n",
            "  Downloading https://files.pythonhosted.org/packages/63/35/495e0021bfdcc924c7cdec4e9fbb87c88dd03b9b9b22419444dc370c8a45/import-ipynb-0.1.3.tar.gz\n",
            "Building wheels for collected packages: import-ipynb\n",
            "  Building wheel for import-ipynb (setup.py) ... \u001b[?25l\u001b[?25hdone\n",
            "  Created wheel for import-ipynb: filename=import_ipynb-0.1.3-cp37-none-any.whl size=2976 sha256=ef9a9dcf705271127b33df23e39d3036aafd8153cf99b60aeeb86974710637a7\n",
            "  Stored in directory: /root/.cache/pip/wheels/b4/7b/e9/a3a6e496115dffdb4e3085d0ae39ffe8a814eacc44bbf494b5\n",
            "Successfully built import-ipynb\n",
            "Installing collected packages: import-ipynb\n",
            "Successfully installed import-ipynb-0.1.3\n"
          ],
          "name": "stdout"
        }
      ]
    },
    {
      "cell_type": "code",
      "metadata": {
        "colab": {
          "base_uri": "https://localhost:8080/"
        },
        "id": "NtE3sxwvK5dh",
        "outputId": "2a97b147-b962-483f-dae9-a2a9069d0a69"
      },
      "source": [
        "# Клонируем проект. Далее нам понадобиться файл model.ipynb, лежащий в корне\r\n",
        "# проекта.\r\n",
        "if not os.path.exists('skillbox_thesis_project'):\r\n",
        "    ! git clone https://github.com/GrinkoL/skillbox_thesis_project.git"
      ],
      "execution_count": null,
      "outputs": [
        {
          "output_type": "stream",
          "text": [
            "Cloning into 'skillbox_thesis_project'...\n",
            "remote: Enumerating objects: 86, done.\u001b[K\n",
            "remote: Counting objects: 100% (86/86), done.\u001b[K\n",
            "remote: Compressing objects: 100% (65/65), done.\u001b[K\n",
            "remote: Total 86 (delta 23), reused 0 (delta 0), pack-reused 0\u001b[K\n",
            "Unpacking objects: 100% (86/86), done.\n"
          ],
          "name": "stdout"
        }
      ]
    },
    {
      "cell_type": "code",
      "metadata": {
        "id": "KsaqpL-X8MEv"
      },
      "source": [
        "from skillbox_thesis_project.model import assemble_model\r\n",
        "\r\n",
        "# Cобираем модель\r\n",
        "model = assemble_model()\r\n",
        "model.summary()"
      ],
      "execution_count": null,
      "outputs": []
    },
    {
      "cell_type": "code",
      "metadata": {
        "id": "l6w3p_L99AAy"
      },
      "source": [
        "def preprocess_input(x, data_format=None):\r\n",
        "    x_temp = np.copy(x)\r\n",
        "    if data_format is None:\r\n",
        "        data_format = K.image_data_format()\r\n",
        "    assert data_format in {'channels_last', 'channels_first'}\r\n",
        "\r\n",
        "    if data_format == 'channels_first':\r\n",
        "        x_temp = x_temp[:, ::-1, ...]\r\n",
        "        x_temp[:, 0, :, :] -= 93.5940\r\n",
        "        x_temp[:, 1, :, :] -= 104.7624\r\n",
        "        x_temp[:, 2, :, :] -= 129.1863\r\n",
        "    else:\r\n",
        "        x_temp = x_temp[..., ::-1]\r\n",
        "        x_temp[..., 0] -= 93.5940\r\n",
        "        x_temp[..., 1] -= 104.7624\r\n",
        "        x_temp[..., 2] -= 129.1863\r\n",
        "    return x_temp"
      ],
      "execution_count": null,
      "outputs": []
    },
    {
      "cell_type": "code",
      "metadata": {
        "colab": {
          "base_uri": "https://localhost:8080/"
        },
        "id": "Jlxtgvhh8X42",
        "outputId": "8ebefbeb-6001-402b-82e3-395da5d1c96d"
      },
      "source": [
        "from tensorflow.keras.preprocessing.image import ImageDataGenerator\r\n",
        "gen = ImageDataGenerator(preprocessing_function=preprocess_input)\r\n",
        "iter = gen.flow_from_directory('train', target_size=(224,224), batch_size=200)"
      ],
      "execution_count": null,
      "outputs": [
        {
          "output_type": "stream",
          "text": [
            "Found 63198 images belonging to 9 classes.\n"
          ],
          "name": "stdout"
        }
      ]
    },
    {
      "cell_type": "code",
      "metadata": {
        "colab": {
          "base_uri": "https://localhost:8080/"
        },
        "id": "lwqTGlVt9dBX",
        "outputId": "a120cbaf-a9f6-4dec-b679-b50e14f213c6"
      },
      "source": [
        "iter.class_indices"
      ],
      "execution_count": null,
      "outputs": [
        {
          "output_type": "execute_result",
          "data": {
            "text/plain": [
              "{'anger': 0,\n",
              " 'contempt': 1,\n",
              " 'disgust': 2,\n",
              " 'fear': 3,\n",
              " 'happy': 4,\n",
              " 'neutral': 5,\n",
              " 'sad': 6,\n",
              " 'surprise': 7,\n",
              " 'uncertain': 8}"
            ]
          },
          "metadata": {
            "tags": []
          },
          "execution_count": 7
        }
      ]
    },
    {
      "cell_type": "code",
      "metadata": {
        "colab": {
          "base_uri": "https://localhost:8080/"
        },
        "id": "uk32xmMJ9lHG",
        "outputId": "35aecdc1-a7e0-4291-a2dc-8a83fedcfc7f"
      },
      "source": [
        "! pip install livelossplot\r\n",
        "from livelossplot import PlotLossesKeras"
      ],
      "execution_count": null,
      "outputs": [
        {
          "output_type": "stream",
          "text": [
            "Collecting livelossplot\n",
            "  Downloading https://files.pythonhosted.org/packages/57/26/840be243088ce142d61c60273408ec09fa1de4534056a56d6e91b73f0cae/livelossplot-0.5.4-py3-none-any.whl\n",
            "Requirement already satisfied: ipython in /usr/local/lib/python3.7/dist-packages (from livelossplot) (5.5.0)\n",
            "Requirement already satisfied: bokeh in /usr/local/lib/python3.7/dist-packages (from livelossplot) (2.1.1)\n",
            "Requirement already satisfied: matplotlib in /usr/local/lib/python3.7/dist-packages (from livelossplot) (3.2.2)\n",
            "Requirement already satisfied: pygments in /usr/local/lib/python3.7/dist-packages (from ipython->livelossplot) (2.6.1)\n",
            "Requirement already satisfied: decorator in /usr/local/lib/python3.7/dist-packages (from ipython->livelossplot) (4.4.2)\n",
            "Requirement already satisfied: simplegeneric>0.8 in /usr/local/lib/python3.7/dist-packages (from ipython->livelossplot) (0.8.1)\n",
            "Requirement already satisfied: pexpect; sys_platform != \"win32\" in /usr/local/lib/python3.7/dist-packages (from ipython->livelossplot) (4.8.0)\n",
            "Requirement already satisfied: setuptools>=18.5 in /usr/local/lib/python3.7/dist-packages (from ipython->livelossplot) (54.0.0)\n",
            "Requirement already satisfied: pickleshare in /usr/local/lib/python3.7/dist-packages (from ipython->livelossplot) (0.7.5)\n",
            "Requirement already satisfied: traitlets>=4.2 in /usr/local/lib/python3.7/dist-packages (from ipython->livelossplot) (5.0.5)\n",
            "Requirement already satisfied: prompt-toolkit<2.0.0,>=1.0.4 in /usr/local/lib/python3.7/dist-packages (from ipython->livelossplot) (1.0.18)\n",
            "Requirement already satisfied: numpy>=1.11.3 in /usr/local/lib/python3.7/dist-packages (from bokeh->livelossplot) (1.19.5)\n",
            "Requirement already satisfied: python-dateutil>=2.1 in /usr/local/lib/python3.7/dist-packages (from bokeh->livelossplot) (2.8.1)\n",
            "Requirement already satisfied: PyYAML>=3.10 in /usr/local/lib/python3.7/dist-packages (from bokeh->livelossplot) (3.13)\n",
            "Requirement already satisfied: pillow>=4.0 in /usr/local/lib/python3.7/dist-packages (from bokeh->livelossplot) (7.0.0)\n",
            "Requirement already satisfied: tornado>=5.1 in /usr/local/lib/python3.7/dist-packages (from bokeh->livelossplot) (5.1.1)\n",
            "Requirement already satisfied: packaging>=16.8 in /usr/local/lib/python3.7/dist-packages (from bokeh->livelossplot) (20.9)\n",
            "Requirement already satisfied: typing-extensions>=3.7.4 in /usr/local/lib/python3.7/dist-packages (from bokeh->livelossplot) (3.7.4.3)\n",
            "Requirement already satisfied: Jinja2>=2.7 in /usr/local/lib/python3.7/dist-packages (from bokeh->livelossplot) (2.11.3)\n",
            "Requirement already satisfied: kiwisolver>=1.0.1 in /usr/local/lib/python3.7/dist-packages (from matplotlib->livelossplot) (1.3.1)\n",
            "Requirement already satisfied: pyparsing!=2.0.4,!=2.1.2,!=2.1.6,>=2.0.1 in /usr/local/lib/python3.7/dist-packages (from matplotlib->livelossplot) (2.4.7)\n",
            "Requirement already satisfied: cycler>=0.10 in /usr/local/lib/python3.7/dist-packages (from matplotlib->livelossplot) (0.10.0)\n",
            "Requirement already satisfied: ptyprocess>=0.5 in /usr/local/lib/python3.7/dist-packages (from pexpect; sys_platform != \"win32\"->ipython->livelossplot) (0.7.0)\n",
            "Requirement already satisfied: ipython-genutils in /usr/local/lib/python3.7/dist-packages (from traitlets>=4.2->ipython->livelossplot) (0.2.0)\n",
            "Requirement already satisfied: six>=1.9.0 in /usr/local/lib/python3.7/dist-packages (from prompt-toolkit<2.0.0,>=1.0.4->ipython->livelossplot) (1.15.0)\n",
            "Requirement already satisfied: wcwidth in /usr/local/lib/python3.7/dist-packages (from prompt-toolkit<2.0.0,>=1.0.4->ipython->livelossplot) (0.2.5)\n",
            "Requirement already satisfied: MarkupSafe>=0.23 in /usr/local/lib/python3.7/dist-packages (from Jinja2>=2.7->bokeh->livelossplot) (1.1.1)\n",
            "Installing collected packages: livelossplot\n",
            "Successfully installed livelossplot-0.5.4\n"
          ],
          "name": "stdout"
        }
      ]
    },
    {
      "cell_type": "code",
      "metadata": {
        "colab": {
          "base_uri": "https://localhost:8080/",
          "height": 670
        },
        "id": "1TaBTjFE9lDP",
        "outputId": "2a49fe1c-3265-4557-b6d9-a35898a4133a"
      },
      "source": [
        "model.fit(iter, epochs=10, steps_per_epoch=30, callbacks=[PlotLossesKeras()])"
      ],
      "execution_count": null,
      "outputs": [
        {
          "output_type": "display_data",
          "data": {
            "image/png": "[encoded data removed]",
            "text/plain": [
              "<Figure size 864x576 with 2 Axes>"
            ]
          },
          "metadata": {
            "tags": [],
            "needs_background": "light"
          }
        },
        {
          "output_type": "stream",
          "text": [
            "categorical_accuracy\n",
            "\tcategorical_accuracy \t (min:    0.280, max:    0.547, cur:    0.547)\n",
            "Loss\n",
            "\tloss             \t (min:    1.292, max:    2.206, cur:    1.292)\n"
          ],
          "name": "stdout"
        },
        {
          "output_type": "execute_result",
          "data": {
            "text/plain": [
              "<tensorflow.python.keras.callbacks.History at 0x7fcd7e311fd0>"
            ]
          },
          "metadata": {
            "tags": []
          },
          "execution_count": 17
        }
      ]
    }
  ]
}